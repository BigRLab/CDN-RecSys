{
 "cells": [
  {
   "cell_type": "markdown",
   "metadata": {},
   "source": [
    "## User (ICP) Features Preprocessing\n",
    "\n",
    "**Input:** Raw data tables (hidden for future research purposes)\n",
    "\n",
    "**Output:** Array of ICP feature vectors in one-hot format\n",
    "\n",
    "**Features used:**\n",
    "* Unique user ID\n",
    "* Industry code\n",
    "* Text bytes (binned by quartile)\n",
    "* Image bytes (binned by quartile)\n",
    "* Video bytes (binned by quartile)"
   ]
  },
  {
   "cell_type": "code",
   "execution_count": 56,
   "metadata": {
    "collapsed": true
   },
   "outputs": [],
   "source": [
    "# Initial steps:\n",
    "# Get list of dictionaries\n",
    "# List index: ICP index\n",
    "# List entry: Dictionary of ICP information\n",
    "    # Industry\n",
    "    # Num. text, image, video\n",
    "    # Bytes text, image, video\n",
    "\n",
    "# Only keep most recent data\n",
    "    # 1. Sort dataframe by timestamp\n",
    "    # 2. Iterate rows --> Keep row if current entry = empty"
   ]
  },
  {
   "cell_type": "code",
   "execution_count": 18,
   "metadata": {},
   "outputs": [
    {
     "name": "stdout",
     "output_type": "stream",
     "text": [
      "True\n",
      "False\n"
     ]
    }
   ],
   "source": [
    "# How to compare timestamps\n",
    "print \"string\" > \"str\"\n",
    "print \"20150507\" > \"20170629\""
   ]
  },
  {
   "cell_type": "code",
   "execution_count": 19,
   "metadata": {
    "collapsed": true
   },
   "outputs": [],
   "source": [
    "import pickle\n",
    "\n",
    "interactions_pickle = '20170629-interactions-mappings.pkl'\n",
    "with open(interactions_pickle, 'rb') as output:\n",
    "    (interactions, iidx_to_cdn, cdn_to_iidx, uidx_to_icp, icp_to_uidx) = pickle.load(output)"
   ]
  },
  {
   "cell_type": "code",
   "execution_count": 20,
   "metadata": {
    "collapsed": true
   },
   "outputs": [],
   "source": [
    "import numpy as np\n",
    "import pandas as pd\n",
    "import scipy.sparse as sp\n",
    "import csv"
   ]
  },
  {
   "cell_type": "code",
   "execution_count": 21,
   "metadata": {
    "collapsed": true
   },
   "outputs": [],
   "source": [
    "# Read in icpclassify file\n",
    "icpclassify_filepath = 'icpstatistic/icpclassify.txt'\n",
    "icpclassify_header = ['industry', 'icp']\n",
    "icpclassify_datatypes = {\n",
    "    'industry': str,\n",
    "    'icp': str\n",
    "}\n",
    "\n",
    "icpclassify_df = pd.read_csv(icpclassify_filepath, \n",
    "                              sep=',', header=None, \n",
    "                              names=icpclassify_header,\n",
    "                              dtype=icpclassify_datatypes)"
   ]
  },
  {
   "cell_type": "code",
   "execution_count": 22,
   "metadata": {},
   "outputs": [
    {
     "data": {
      "text/html": [
       "<div>\n",
       "<style>\n",
       "    .dataframe thead tr:only-child th {\n",
       "        text-align: right;\n",
       "    }\n",
       "\n",
       "    .dataframe thead th {\n",
       "        text-align: left;\n",
       "    }\n",
       "\n",
       "    .dataframe tbody tr th {\n",
       "        vertical-align: top;\n",
       "    }\n",
       "</style>\n",
       "<table border=\"1\" class=\"dataframe\">\n",
       "  <thead>\n",
       "    <tr style=\"text-align: right;\">\n",
       "      <th></th>\n",
       "      <th>industry</th>\n",
       "      <th>icp</th>\n",
       "    </tr>\n",
       "  </thead>\n",
       "  <tbody>\n",
       "    <tr>\n",
       "      <th>0</th>\n",
       "      <td>0600</td>\n",
       "      <td>www.baidu.com</td>\n",
       "    </tr>\n",
       "    <tr>\n",
       "      <th>1</th>\n",
       "      <td>0100</td>\n",
       "      <td>www.qq.com</td>\n",
       "    </tr>\n",
       "    <tr>\n",
       "      <th>2</th>\n",
       "      <td>0300</td>\n",
       "      <td>www.taobao.com</td>\n",
       "    </tr>\n",
       "    <tr>\n",
       "      <th>3</th>\n",
       "      <td>0100</td>\n",
       "      <td>www.sina.com.cn</td>\n",
       "    </tr>\n",
       "    <tr>\n",
       "      <th>4</th>\n",
       "      <td>0500</td>\n",
       "      <td>www.weibo.com</td>\n",
       "    </tr>\n",
       "  </tbody>\n",
       "</table>\n",
       "</div>"
      ],
      "text/plain": [
       "  industry              icp\n",
       "0     0600    www.baidu.com\n",
       "1     0100       www.qq.com\n",
       "2     0300   www.taobao.com\n",
       "3     0100  www.sina.com.cn\n",
       "4     0500    www.weibo.com"
      ]
     },
     "execution_count": 22,
     "metadata": {},
     "output_type": "execute_result"
    }
   ],
   "source": [
    "icpclassify_df.head()"
   ]
  },
  {
   "cell_type": "code",
   "execution_count": 23,
   "metadata": {},
   "outputs": [
    {
     "name": "stdout",
     "output_type": "stream",
     "text": [
      "['0600' '0100' '0300' '0500' '0200' '0400']\n",
      "[False]\n",
      "2000\n"
     ]
    }
   ],
   "source": [
    "print icpclassify_df.industry.unique()\n",
    "print icpclassify_df.duplicated().unique()\n",
    "print icpclassify_df.icp.unique().shape[0]"
   ]
  },
  {
   "cell_type": "code",
   "execution_count": 24,
   "metadata": {
    "collapsed": true
   },
   "outputs": [],
   "source": [
    "num_icps = len(icp_to_uidx.keys())\n",
    "icp_list = icp_to_uidx.keys()"
   ]
  },
  {
   "cell_type": "code",
   "execution_count": 25,
   "metadata": {},
   "outputs": [
    {
     "data": {
      "text/plain": [
       "[]"
      ]
     },
     "execution_count": 25,
     "metadata": {},
     "output_type": "execute_result"
    }
   ],
   "source": [
    "[x for x in icp_to_uidx.values() if icp_to_uidx.values().count(x) >= 2]\n",
    "# No duplicate mappings. Just to check."
   ]
  },
  {
   "cell_type": "code",
   "execution_count": 26,
   "metadata": {
    "collapsed": true
   },
   "outputs": [],
   "source": [
    "# Next step: try something like this instead\n",
    "icpclassify_dict = icpclassify_df.set_index('icp').T.to_dict()"
   ]
  },
  {
   "cell_type": "code",
   "execution_count": 27,
   "metadata": {},
   "outputs": [
    {
     "name": "stdout",
     "output_type": "stream",
     "text": [
      "2000\n"
     ]
    }
   ],
   "source": [
    "print len(icpclassify_dict)"
   ]
  },
  {
   "cell_type": "code",
   "execution_count": 28,
   "metadata": {},
   "outputs": [
    {
     "name": "stdout",
     "output_type": "stream",
     "text": [
      "1151\n",
      "{'industry': '0100'}\n"
     ]
    }
   ],
   "source": [
    "icp_feature_dict_prelim = {icp:features for icp,features \\\n",
    "                    in icpclassify_dict.iteritems() if icp in icp_to_uidx}\n",
    "print len(icp_feature_dict_prelim)\n",
    "print icp_feature_dict_prelim[\"www.qq.com\"] # Testing"
   ]
  },
  {
   "cell_type": "code",
   "execution_count": 29,
   "metadata": {
    "collapsed": true
   },
   "outputs": [],
   "source": [
    "# Check all ICPs in dict belong in RecSys\n",
    "for icp, features in icp_feature_dict_prelim.iteritems():\n",
    "    assert(icp in icp_to_uidx)\n",
    "\n",
    "# Check all ICPs in RecSys matrix represented in feature dict\n",
    "for icp in icp_to_uidx.keys():\n",
    "    assert (icp in icp_feature_dict_prelim)"
   ]
  },
  {
   "cell_type": "code",
   "execution_count": 30,
   "metadata": {
    "collapsed": true
   },
   "outputs": [],
   "source": [
    "# For quick testing\n",
    "def get_industry(icp):\n",
    "    if icp in icp_list:\n",
    "        return icp_feature_dict_prelim[icp]['industry']\n",
    "    else:\n",
    "        return 'ICP not in RecSys list'"
   ]
  },
  {
   "cell_type": "code",
   "execution_count": 31,
   "metadata": {},
   "outputs": [
    {
     "data": {
      "text/plain": [
       "'ICP not in RecSys list'"
      ]
     },
     "execution_count": 31,
     "metadata": {},
     "output_type": "execute_result"
    }
   ],
   "source": [
    "get_industry('www.17ok.com')"
   ]
  },
  {
   "cell_type": "code",
   "execution_count": 32,
   "metadata": {
    "collapsed": true
   },
   "outputs": [],
   "source": [
    "# TODO: Add num page elements, bytes data\n",
    "\n",
    "# To sort this list based on mapping indices: \n",
    "# https://stackoverflow.com/questions/72899/how-do-i-sort-a-list-of-dictionaries-by-values-of-the-dictionary-in-python"
   ]
  },
  {
   "cell_type": "code",
   "execution_count": 33,
   "metadata": {
    "collapsed": true
   },
   "outputs": [],
   "source": [
    "# Read in icpstatistic file\n",
    "icpstatistic_filepath = 'icpstatistic/all_icp_statistics.txt'\n",
    "icpstatistic_header = ['icp', 'textnum', 'imagenum', 'videonum', 'unknownnum',\\\n",
    "                       'textbytes', 'imagebytes', 'videobytes', 'unknownbytes',\\\n",
    "                       'createtime', 'ts']\n",
    "icpstatistic_dtypes = {\n",
    "    'icp': str,\n",
    "    'textnum': np.int64,\n",
    "    'imagenum': np.int64,\n",
    "    'videonum': np.int64,\n",
    "    'unknownnum': np.int64,\n",
    "    'textbytes': np.int64,\n",
    "    'imagebytes': np.int64,\n",
    "    'videobytes': np.int64,\n",
    "    'unknownbytes': np.int64,\n",
    "    'createtime': str,\n",
    "    'ts': str\n",
    "}\n",
    "\n",
    "icpstatistic_df = pd.read_csv(icpstatistic_filepath, \n",
    "                              sep=',', header=None, \n",
    "                              names=icpstatistic_header,\n",
    "                              dtype=icpstatistic_dtypes)"
   ]
  },
  {
   "cell_type": "code",
   "execution_count": 34,
   "metadata": {},
   "outputs": [
    {
     "data": {
      "text/html": [
       "<div>\n",
       "<style>\n",
       "    .dataframe thead tr:only-child th {\n",
       "        text-align: right;\n",
       "    }\n",
       "\n",
       "    .dataframe thead th {\n",
       "        text-align: left;\n",
       "    }\n",
       "\n",
       "    .dataframe tbody tr th {\n",
       "        vertical-align: top;\n",
       "    }\n",
       "</style>\n",
       "<table border=\"1\" class=\"dataframe\">\n",
       "  <thead>\n",
       "    <tr style=\"text-align: right;\">\n",
       "      <th></th>\n",
       "      <th>icp</th>\n",
       "      <th>textnum</th>\n",
       "      <th>imagenum</th>\n",
       "      <th>videonum</th>\n",
       "      <th>unknownnum</th>\n",
       "      <th>textbytes</th>\n",
       "      <th>imagebytes</th>\n",
       "      <th>videobytes</th>\n",
       "      <th>unknownbytes</th>\n",
       "      <th>createtime</th>\n",
       "      <th>ts</th>\n",
       "    </tr>\n",
       "  </thead>\n",
       "  <tbody>\n",
       "    <tr>\n",
       "      <th>0</th>\n",
       "      <td>1000eb.com</td>\n",
       "      <td>52</td>\n",
       "      <td>1</td>\n",
       "      <td>0</td>\n",
       "      <td>0</td>\n",
       "      <td>437337</td>\n",
       "      <td>4286</td>\n",
       "      <td>0</td>\n",
       "      <td>0</td>\n",
       "      <td>20150312095107</td>\n",
       "      <td>20150102</td>\n",
       "    </tr>\n",
       "    <tr>\n",
       "      <th>1</th>\n",
       "      <td>2pcw.cn</td>\n",
       "      <td>2135</td>\n",
       "      <td>201</td>\n",
       "      <td>0</td>\n",
       "      <td>12</td>\n",
       "      <td>37115444</td>\n",
       "      <td>11604039</td>\n",
       "      <td>0</td>\n",
       "      <td>196756</td>\n",
       "      <td>20150312095108</td>\n",
       "      <td>20150102</td>\n",
       "    </tr>\n",
       "    <tr>\n",
       "      <th>2</th>\n",
       "      <td>360boclub.com</td>\n",
       "      <td>3312</td>\n",
       "      <td>93</td>\n",
       "      <td>7</td>\n",
       "      <td>9</td>\n",
       "      <td>143260320</td>\n",
       "      <td>2739491</td>\n",
       "      <td>78912</td>\n",
       "      <td>94623</td>\n",
       "      <td>20150312095108</td>\n",
       "      <td>20150102</td>\n",
       "    </tr>\n",
       "    <tr>\n",
       "      <th>3</th>\n",
       "      <td>365jia.cn</td>\n",
       "      <td>2607</td>\n",
       "      <td>5067</td>\n",
       "      <td>43</td>\n",
       "      <td>134</td>\n",
       "      <td>153051095</td>\n",
       "      <td>199486613</td>\n",
       "      <td>1402569193</td>\n",
       "      <td>7573289</td>\n",
       "      <td>20150312095108</td>\n",
       "      <td>20150102</td>\n",
       "    </tr>\n",
       "    <tr>\n",
       "      <th>4</th>\n",
       "      <td>365jilin.com</td>\n",
       "      <td>15</td>\n",
       "      <td>19</td>\n",
       "      <td>0</td>\n",
       "      <td>4</td>\n",
       "      <td>367434</td>\n",
       "      <td>255625</td>\n",
       "      <td>0</td>\n",
       "      <td>100506</td>\n",
       "      <td>20150312095108</td>\n",
       "      <td>20150102</td>\n",
       "    </tr>\n",
       "  </tbody>\n",
       "</table>\n",
       "</div>"
      ],
      "text/plain": [
       "             icp  textnum  imagenum  videonum  unknownnum  textbytes  \\\n",
       "0     1000eb.com       52         1         0           0     437337   \n",
       "1        2pcw.cn     2135       201         0          12   37115444   \n",
       "2  360boclub.com     3312        93         7           9  143260320   \n",
       "3      365jia.cn     2607      5067        43         134  153051095   \n",
       "4   365jilin.com       15        19         0           4     367434   \n",
       "\n",
       "   imagebytes  videobytes  unknownbytes      createtime        ts  \n",
       "0        4286           0             0  20150312095107  20150102  \n",
       "1    11604039           0        196756  20150312095108  20150102  \n",
       "2     2739491       78912         94623  20150312095108  20150102  \n",
       "3   199486613  1402569193       7573289  20150312095108  20150102  \n",
       "4      255625           0        100506  20150312095108  20150102  "
      ]
     },
     "execution_count": 34,
     "metadata": {},
     "output_type": "execute_result"
    }
   ],
   "source": [
    "icpstatistic_df.head()"
   ]
  },
  {
   "cell_type": "code",
   "execution_count": 35,
   "metadata": {},
   "outputs": [
    {
     "data": {
      "text/html": [
       "<div>\n",
       "<style>\n",
       "    .dataframe thead tr:only-child th {\n",
       "        text-align: right;\n",
       "    }\n",
       "\n",
       "    .dataframe thead th {\n",
       "        text-align: left;\n",
       "    }\n",
       "\n",
       "    .dataframe tbody tr th {\n",
       "        vertical-align: top;\n",
       "    }\n",
       "</style>\n",
       "<table border=\"1\" class=\"dataframe\">\n",
       "  <thead>\n",
       "    <tr style=\"text-align: right;\">\n",
       "      <th></th>\n",
       "      <th>icp</th>\n",
       "      <th>textnum</th>\n",
       "      <th>imagenum</th>\n",
       "      <th>videonum</th>\n",
       "      <th>unknownnum</th>\n",
       "      <th>textbytes</th>\n",
       "      <th>imagebytes</th>\n",
       "      <th>videobytes</th>\n",
       "      <th>unknownbytes</th>\n",
       "      <th>createtime</th>\n",
       "      <th>ts</th>\n",
       "    </tr>\n",
       "  </thead>\n",
       "  <tbody>\n",
       "    <tr>\n",
       "      <th>117957</th>\n",
       "      <td>1000eb.com</td>\n",
       "      <td>19364</td>\n",
       "      <td>5</td>\n",
       "      <td>0</td>\n",
       "      <td>0</td>\n",
       "      <td>370553410</td>\n",
       "      <td>21430</td>\n",
       "      <td>0</td>\n",
       "      <td>0</td>\n",
       "      <td>20150430003613</td>\n",
       "      <td>20150429</td>\n",
       "    </tr>\n",
       "    <tr>\n",
       "      <th>117958</th>\n",
       "      <td>2pcw.cn</td>\n",
       "      <td>4625</td>\n",
       "      <td>446</td>\n",
       "      <td>0</td>\n",
       "      <td>24</td>\n",
       "      <td>79126492</td>\n",
       "      <td>26706230</td>\n",
       "      <td>0</td>\n",
       "      <td>393512</td>\n",
       "      <td>20150430003613</td>\n",
       "      <td>20150429</td>\n",
       "    </tr>\n",
       "    <tr>\n",
       "      <th>117959</th>\n",
       "      <td>360boclub.com</td>\n",
       "      <td>176568</td>\n",
       "      <td>883</td>\n",
       "      <td>41</td>\n",
       "      <td>116</td>\n",
       "      <td>8153276319</td>\n",
       "      <td>32099895</td>\n",
       "      <td>464946</td>\n",
       "      <td>1928660</td>\n",
       "      <td>20150430003613</td>\n",
       "      <td>20150429</td>\n",
       "    </tr>\n",
       "    <tr>\n",
       "      <th>117960</th>\n",
       "      <td>365jia.cn</td>\n",
       "      <td>223157</td>\n",
       "      <td>199273</td>\n",
       "      <td>817</td>\n",
       "      <td>718</td>\n",
       "      <td>12508850846</td>\n",
       "      <td>8603710019</td>\n",
       "      <td>25164893261</td>\n",
       "      <td>903447074</td>\n",
       "      <td>20150430003613</td>\n",
       "      <td>20150429</td>\n",
       "    </tr>\n",
       "    <tr>\n",
       "      <th>117961</th>\n",
       "      <td>365jilin.com</td>\n",
       "      <td>78</td>\n",
       "      <td>55</td>\n",
       "      <td>0</td>\n",
       "      <td>5</td>\n",
       "      <td>1856159</td>\n",
       "      <td>224145</td>\n",
       "      <td>0</td>\n",
       "      <td>144808</td>\n",
       "      <td>20150430003613</td>\n",
       "      <td>20150429</td>\n",
       "    </tr>\n",
       "  </tbody>\n",
       "</table>\n",
       "</div>"
      ],
      "text/plain": [
       "                  icp  textnum  imagenum  videonum  unknownnum    textbytes  \\\n",
       "117957     1000eb.com    19364         5         0           0    370553410   \n",
       "117958        2pcw.cn     4625       446         0          24     79126492   \n",
       "117959  360boclub.com   176568       883        41         116   8153276319   \n",
       "117960      365jia.cn   223157    199273       817         718  12508850846   \n",
       "117961   365jilin.com       78        55         0           5      1856159   \n",
       "\n",
       "        imagebytes   videobytes  unknownbytes      createtime        ts  \n",
       "117957       21430            0             0  20150430003613  20150429  \n",
       "117958    26706230            0        393512  20150430003613  20150429  \n",
       "117959    32099895       464946       1928660  20150430003613  20150429  \n",
       "117960  8603710019  25164893261     903447074  20150430003613  20150429  \n",
       "117961      224145            0        144808  20150430003613  20150429  "
      ]
     },
     "execution_count": 35,
     "metadata": {},
     "output_type": "execute_result"
    }
   ],
   "source": [
    "# Sort: recent first --> only keep most recent data\n",
    "icpstatistic_sorted = icpstatistic_df.sort_values(['ts', 'createtime'], ascending=[False, False])\n",
    "icpstatistic_sorted.head()"
   ]
  },
  {
   "cell_type": "code",
   "execution_count": 36,
   "metadata": {},
   "outputs": [
    {
     "data": {
      "text/html": [
       "<div>\n",
       "<style>\n",
       "    .dataframe thead tr:only-child th {\n",
       "        text-align: right;\n",
       "    }\n",
       "\n",
       "    .dataframe thead th {\n",
       "        text-align: left;\n",
       "    }\n",
       "\n",
       "    .dataframe tbody tr th {\n",
       "        vertical-align: top;\n",
       "    }\n",
       "</style>\n",
       "<table border=\"1\" class=\"dataframe\">\n",
       "  <thead>\n",
       "    <tr style=\"text-align: right;\">\n",
       "      <th></th>\n",
       "      <th>textnum</th>\n",
       "      <th>imagenum</th>\n",
       "      <th>videonum</th>\n",
       "      <th>unknownnum</th>\n",
       "      <th>textbytes</th>\n",
       "      <th>imagebytes</th>\n",
       "      <th>videobytes</th>\n",
       "      <th>unknownbytes</th>\n",
       "    </tr>\n",
       "  </thead>\n",
       "  <tbody>\n",
       "    <tr>\n",
       "      <th>count</th>\n",
       "      <td>1.421890e+05</td>\n",
       "      <td>1.421890e+05</td>\n",
       "      <td>142189.000000</td>\n",
       "      <td>1.421890e+05</td>\n",
       "      <td>1.421890e+05</td>\n",
       "      <td>1.421890e+05</td>\n",
       "      <td>1.421890e+05</td>\n",
       "      <td>1.421890e+05</td>\n",
       "    </tr>\n",
       "    <tr>\n",
       "      <th>mean</th>\n",
       "      <td>5.281273e+04</td>\n",
       "      <td>1.694368e+04</td>\n",
       "      <td>173.407289</td>\n",
       "      <td>1.685686e+03</td>\n",
       "      <td>1.802321e+09</td>\n",
       "      <td>8.872234e+08</td>\n",
       "      <td>1.070706e+09</td>\n",
       "      <td>8.917975e+08</td>\n",
       "    </tr>\n",
       "    <tr>\n",
       "      <th>std</th>\n",
       "      <td>1.850197e+05</td>\n",
       "      <td>1.858247e+05</td>\n",
       "      <td>3046.352977</td>\n",
       "      <td>1.612916e+04</td>\n",
       "      <td>7.427256e+09</td>\n",
       "      <td>9.001758e+09</td>\n",
       "      <td>2.863522e+10</td>\n",
       "      <td>1.779261e+10</td>\n",
       "    </tr>\n",
       "    <tr>\n",
       "      <th>min</th>\n",
       "      <td>0.000000e+00</td>\n",
       "      <td>0.000000e+00</td>\n",
       "      <td>0.000000</td>\n",
       "      <td>0.000000e+00</td>\n",
       "      <td>0.000000e+00</td>\n",
       "      <td>0.000000e+00</td>\n",
       "      <td>0.000000e+00</td>\n",
       "      <td>0.000000e+00</td>\n",
       "    </tr>\n",
       "    <tr>\n",
       "      <th>25%</th>\n",
       "      <td>1.541000e+03</td>\n",
       "      <td>5.900000e+01</td>\n",
       "      <td>0.000000</td>\n",
       "      <td>1.100000e+01</td>\n",
       "      <td>2.332635e+07</td>\n",
       "      <td>7.200290e+05</td>\n",
       "      <td>0.000000e+00</td>\n",
       "      <td>1.388590e+05</td>\n",
       "    </tr>\n",
       "    <tr>\n",
       "      <th>50%</th>\n",
       "      <td>1.978100e+04</td>\n",
       "      <td>1.016000e+03</td>\n",
       "      <td>0.000000</td>\n",
       "      <td>6.200000e+01</td>\n",
       "      <td>4.427659e+08</td>\n",
       "      <td>2.659960e+07</td>\n",
       "      <td>0.000000e+00</td>\n",
       "      <td>1.174268e+06</td>\n",
       "    </tr>\n",
       "    <tr>\n",
       "      <th>75%</th>\n",
       "      <td>7.217800e+04</td>\n",
       "      <td>1.014900e+04</td>\n",
       "      <td>6.000000</td>\n",
       "      <td>2.570000e+02</td>\n",
       "      <td>1.752729e+09</td>\n",
       "      <td>3.995624e+08</td>\n",
       "      <td>4.827420e+05</td>\n",
       "      <td>8.281184e+06</td>\n",
       "    </tr>\n",
       "    <tr>\n",
       "      <th>max</th>\n",
       "      <td>1.297565e+07</td>\n",
       "      <td>1.354639e+07</td>\n",
       "      <td>212220.000000</td>\n",
       "      <td>1.043031e+06</td>\n",
       "      <td>4.843496e+11</td>\n",
       "      <td>6.728541e+11</td>\n",
       "      <td>1.846369e+12</td>\n",
       "      <td>1.065438e+12</td>\n",
       "    </tr>\n",
       "  </tbody>\n",
       "</table>\n",
       "</div>"
      ],
      "text/plain": [
       "            textnum      imagenum       videonum    unknownnum     textbytes  \\\n",
       "count  1.421890e+05  1.421890e+05  142189.000000  1.421890e+05  1.421890e+05   \n",
       "mean   5.281273e+04  1.694368e+04     173.407289  1.685686e+03  1.802321e+09   \n",
       "std    1.850197e+05  1.858247e+05    3046.352977  1.612916e+04  7.427256e+09   \n",
       "min    0.000000e+00  0.000000e+00       0.000000  0.000000e+00  0.000000e+00   \n",
       "25%    1.541000e+03  5.900000e+01       0.000000  1.100000e+01  2.332635e+07   \n",
       "50%    1.978100e+04  1.016000e+03       0.000000  6.200000e+01  4.427659e+08   \n",
       "75%    7.217800e+04  1.014900e+04       6.000000  2.570000e+02  1.752729e+09   \n",
       "max    1.297565e+07  1.354639e+07  212220.000000  1.043031e+06  4.843496e+11   \n",
       "\n",
       "         imagebytes    videobytes  unknownbytes  \n",
       "count  1.421890e+05  1.421890e+05  1.421890e+05  \n",
       "mean   8.872234e+08  1.070706e+09  8.917975e+08  \n",
       "std    9.001758e+09  2.863522e+10  1.779261e+10  \n",
       "min    0.000000e+00  0.000000e+00  0.000000e+00  \n",
       "25%    7.200290e+05  0.000000e+00  1.388590e+05  \n",
       "50%    2.659960e+07  0.000000e+00  1.174268e+06  \n",
       "75%    3.995624e+08  4.827420e+05  8.281184e+06  \n",
       "max    6.728541e+11  1.846369e+12  1.065438e+12  "
      ]
     },
     "execution_count": 36,
     "metadata": {},
     "output_type": "execute_result"
    }
   ],
   "source": [
    "icpstatistic_sorted.describe()\n",
    "\n",
    "# Web data features: Bin by quartiles? \n",
    "# So: 0, 1st quartile (>0), 2nd quartile, 3rd, 4th"
   ]
  },
  {
   "cell_type": "code",
   "execution_count": 37,
   "metadata": {
    "collapsed": true
   },
   "outputs": [],
   "source": [
    "# Define quantiles for data feature bins\n",
    "text_q1 = 0\n",
    "text_q2 = icpstatistic_sorted['textbytes'].quantile(.25)\n",
    "text_q3 = icpstatistic_sorted['textbytes'].quantile(.50)\n",
    "text_q4 = icpstatistic_sorted['textbytes'].quantile(.75)\n",
    "\n",
    "image_q1 = 0\n",
    "image_q2 = icpstatistic_sorted['imagebytes'].quantile(.25)\n",
    "image_q3 = icpstatistic_sorted['imagebytes'].quantile(.50)\n",
    "image_q4 = icpstatistic_sorted['imagebytes'].quantile(.75)\n",
    "\n",
    "video_q1 = 0\n",
    "video_q2 = icpstatistic_sorted['videobytes'].quantile(.70)\n",
    "video_q3 = icpstatistic_sorted['videobytes'].quantile(.80)\n",
    "video_q4 = icpstatistic_sorted['videobytes'].quantile(.90)"
   ]
  },
  {
   "cell_type": "code",
   "execution_count": 38,
   "metadata": {},
   "outputs": [
    {
     "data": {
      "text/plain": [
       "150.0"
      ]
     },
     "execution_count": 38,
     "metadata": {},
     "output_type": "execute_result"
    }
   ],
   "source": [
    "icpstatistic_sorted['videobytes'].quantile(.54)"
   ]
  },
  {
   "cell_type": "code",
   "execution_count": 39,
   "metadata": {
    "collapsed": true
   },
   "outputs": [],
   "source": [
    "# Quantile-bin function:\n",
    "def text_bin(bytes):\n",
    "    if bytes <= text_q1: return 'q0'\n",
    "    elif bytes > text_q1 and bytes < text_q2: return 'q1'\n",
    "    elif bytes >= text_q2 and bytes < text_q3: return 'q2'\n",
    "    elif bytes >= text_q3 and bytes < text_q4: return 'q3'\n",
    "    elif bytes >= text_q4: return 'q4'\n",
    "    else: return 'Error'\n",
    "    \n",
    "def image_bin(bytes):\n",
    "    if bytes <= image_q1: return 'q0'\n",
    "    elif bytes > image_q1 and bytes < image_q2: return 'q1'\n",
    "    elif bytes >= image_q2 and bytes < image_q3: return 'q2'\n",
    "    elif bytes >= image_q3 and bytes < image_q4: return 'q3'\n",
    "    elif bytes >= image_q4: return 'q4'\n",
    "    else: return 'Error'\n",
    "    \n",
    "def video_bin(bytes):\n",
    "    if bytes <= video_q1: return 'q0'\n",
    "    elif bytes > video_q1 and bytes < video_q2: return 'q1'\n",
    "    elif bytes >= video_q2 and bytes < video_q3: return 'q2'\n",
    "    elif bytes >= video_q3 and bytes < video_q4: return 'q3'\n",
    "    elif bytes >= video_q4: return 'q4'\n",
    "    else: return 'Error'"
   ]
  },
  {
   "cell_type": "code",
   "execution_count": 40,
   "metadata": {},
   "outputs": [
    {
     "data": {
      "text/plain": [
       "'q4'"
      ]
     },
     "execution_count": 40,
     "metadata": {},
     "output_type": "execute_result"
    }
   ],
   "source": [
    "video_bin(21175721.0)"
   ]
  },
  {
   "cell_type": "code",
   "execution_count": 41,
   "metadata": {
    "collapsed": true
   },
   "outputs": [],
   "source": [
    "# Add web content statistics to feature dict\n",
    "for entry in icpstatistic_sorted.itertuples():\n",
    "    icp = entry[1]\n",
    "    \n",
    "    # Hasn't used a CDN\n",
    "    if icp not in icp_to_uidx: \n",
    "        continue\n",
    "        \n",
    "    # Has no entries yet\n",
    "    if 'textnum' not in icp_feature_dict_prelim[icp]:\n",
    "        icp_feature_dict_prelim[icp]['textnum'] = entry[2]\n",
    "    if 'imagenum' not in icp_feature_dict_prelim[icp]:\n",
    "        icp_feature_dict_prelim[icp]['imagenum'] = entry[3]\n",
    "    if 'videonum' not in icp_feature_dict_prelim[icp]:\n",
    "        icp_feature_dict_prelim[icp]['videonum'] = entry[4]\n",
    "    if 'unknownnum' not in icp_feature_dict_prelim[icp]:\n",
    "        icp_feature_dict_prelim[icp]['unknownnum'] = entry[5]\n",
    "    if 'textbytes' not in icp_feature_dict_prelim[icp]:\n",
    "        icp_feature_dict_prelim[icp]['textbytes'] = entry[6]\n",
    "    if 'imagebytes' not in icp_feature_dict_prelim[icp]:\n",
    "        icp_feature_dict_prelim[icp]['imagebytes'] = entry[7]\n",
    "    if 'videobytes' not in icp_feature_dict_prelim[icp]:\n",
    "        icp_feature_dict_prelim[icp]['videobytes'] = entry[8]\n",
    "    if 'unknownbytes' not in icp_feature_dict_prelim[icp]:\n",
    "        icp_feature_dict_prelim[icp]['unknownbytes'] = entry[9]\n",
    "    if 'ts' not in icp_feature_dict_prelim[icp]:\n",
    "        icp_feature_dict_prelim[icp]['ts'] = entry[11]"
   ]
  },
  {
   "cell_type": "code",
   "execution_count": 42,
   "metadata": {},
   "outputs": [
    {
     "name": "stdout",
     "output_type": "stream",
     "text": [
      "www.chinacourt.org\n",
      "www.chinacourt.org\n",
      "www.chinacourt.org\n",
      "www.chinacourt.org\n",
      "www.chinacourt.org\n",
      "www.chinacourt.org\n",
      "www.chinacourt.org\n",
      "www.chinacourt.org\n"
     ]
    }
   ],
   "source": [
    "for icp, features in icp_feature_dict_prelim.iteritems():\n",
    "    if 'industry' not in features: print icp\n",
    "    if 'textnum' not in features: print icp\n",
    "    if 'imagenum' not in features: print icp\n",
    "    if 'videonum' not in features: print icp\n",
    "    if 'unknownnum' not in features: print icp\n",
    "    if 'textbytes' not in features: print icp\n",
    "    if 'imagebytes' not in features: print icp\n",
    "    if 'videobytes' not in features: print icp\n",
    "    if 'unknownbytes' not in features: print icp"
   ]
  },
  {
   "cell_type": "code",
   "execution_count": 43,
   "metadata": {
    "collapsed": true
   },
   "outputs": [],
   "source": [
    "# Manually adding info for www.chinacourt.org - got listed as \"chinacourt.org\" in icpstatistic\n",
    "# Please forgive me for this shitty code\n",
    "for entry in icpstatistic_sorted.itertuples():\n",
    "    icp_raw = entry[1]\n",
    "    \n",
    "    if 'chinacourt.org' in icp_raw:\n",
    "        icp = 'www.chinacourt.org'\n",
    "        \n",
    "        if 'textnum' not in icp_feature_dict_prelim[icp]:\n",
    "            icp_feature_dict_prelim[icp]['textnum'] = entry[2]\n",
    "        if 'imagenum' not in icp_feature_dict_prelim[icp]:\n",
    "            icp_feature_dict_prelim[icp]['imagenum'] = entry[3]\n",
    "        if 'videonum' not in icp_feature_dict_prelim[icp]:\n",
    "            icp_feature_dict_prelim[icp]['videonum'] = entry[4]\n",
    "        if 'unknownnum' not in icp_feature_dict_prelim[icp]:\n",
    "            icp_feature_dict_prelim[icp]['unknownnum'] = entry[5]\n",
    "        if 'textbytes' not in icp_feature_dict_prelim[icp]:\n",
    "            icp_feature_dict_prelim[icp]['textbytes'] = entry[6]\n",
    "        if 'imagebytes' not in icp_feature_dict_prelim[icp]:\n",
    "            icp_feature_dict_prelim[icp]['imagebytes'] = entry[7]\n",
    "        if 'videobytes' not in icp_feature_dict_prelim[icp]:\n",
    "            icp_feature_dict_prelim[icp]['videobytes'] = entry[8]\n",
    "        if 'unknownbytes' not in icp_feature_dict_prelim[icp]:\n",
    "            icp_feature_dict_prelim[icp]['unknownbytes'] = entry[9]\n",
    "        if 'ts' not in icp_feature_dict_prelim[icp]:\n",
    "            icp_feature_dict_prelim[icp]['ts'] = entry[11]\n",
    "            \n",
    "        break"
   ]
  },
  {
   "cell_type": "code",
   "execution_count": 44,
   "metadata": {
    "collapsed": true
   },
   "outputs": [],
   "source": [
    "for icp, features in icp_feature_dict_prelim.iteritems():\n",
    "    if 'industry' not in features: print icp\n",
    "    if 'textnum' not in features: print icp\n",
    "    if 'imagenum' not in features: print icp\n",
    "    if 'videonum' not in features: print icp\n",
    "    if 'unknownnum' not in features: print icp\n",
    "    if 'textbytes' not in features: print icp\n",
    "    if 'imagebytes' not in features: print icp\n",
    "    if 'videobytes' not in features: print icp\n",
    "    if 'unknownbytes' not in features: print icp"
   ]
  },
  {
   "cell_type": "code",
   "execution_count": 45,
   "metadata": {},
   "outputs": [
    {
     "data": {
      "text/plain": [
       "{'imagebytes': 51454,\n",
       " 'imagenum': 40,\n",
       " 'industry': '0100',\n",
       " 'textbytes': 79575808,\n",
       " 'textnum': 2716,\n",
       " 'ts': '20150429',\n",
       " 'unknownbytes': 3711144,\n",
       " 'unknownnum': 160,\n",
       " 'videobytes': 0,\n",
       " 'videonum': 0}"
      ]
     },
     "execution_count": 45,
     "metadata": {},
     "output_type": "execute_result"
    }
   ],
   "source": [
    "icp_feature_dict_prelim['www.qq.com']"
   ]
  },
  {
   "cell_type": "code",
   "execution_count": 46,
   "metadata": {
    "collapsed": true
   },
   "outputs": [],
   "source": [
    "# import pickle\n",
    "# with open('20170703-icp-features-prelim.pkl', 'wb') as output:\n",
    "#     pickle.dump(icp_feature_dict, output, -1)"
   ]
  },
  {
   "cell_type": "code",
   "execution_count": 47,
   "metadata": {
    "collapsed": true
   },
   "outputs": [],
   "source": [
    "icp_feature_dict_final = {\n",
    "                          icp:dict(\n",
    "                                icp=icp,\n",
    "                                industry=features['industry'],\n",
    "                                text_bin=text_bin(features['textbytes']),\n",
    "                                image_bin=image_bin(features['imagebytes']),\n",
    "                                video_bin=video_bin(features['videobytes'])\n",
    "                          )\n",
    "                          for icp, features in icp_feature_dict_prelim.iteritems()\n",
    "}"
   ]
  },
  {
   "cell_type": "code",
   "execution_count": 48,
   "metadata": {},
   "outputs": [
    {
     "name": "stdout",
     "output_type": "stream",
     "text": [
      "154\n",
      "['www.oppo.com', 'www.guolairen.com', 'www.nipic.com', 'www.dayoo.com', 'www.esteelauder.com.cn', 'www.hebei.com.cn', 'www.taisha.org', 'www.titan24.com', 'www.abbottmama.com.cn', 'www.icbc.com.cn', 'www.17173.com', 'www.go108.com.cn', 'www.313.com', 'www.cztv.com', 'www.9978.cn', 'nut.com.cn', 'www.nanhutravel.com', 'www.wifigx.com', 'www.dqdaily.com', 'www.cpic.com.cn', 'www.foodmate.net', 'www.ofweek.com', 'www.safehoo.com', 'www.55188.com', 'www.gxnews.com.cn', 'www.bmw.com.cn', 'www.sf-express.com', 'www.smzy.com', 'www.xa999.com', 'www.xiami.com', 'www.ce.cn', 'www.smartshe.com', 'www.gq.com.cn', 'www.koolearn.com', 'www.juooo.com', 'www.yesky.com', 'www.ffpic.com', 'www.feel-bar.com', 'www.kuwo.cn', 'www.sznews.com', 'www.pcgames.com.cn', 'www.voc.com.cn', 'www.hqew.com', 'www.cnnb.com.cn', 'www.0731fdc.com', 'www.xmhouse.com', 'www.6eat.com', 'www.xywy.com', 'www.chinanews.com', 'www.tingroom.com', 'www.weather.com.cn', 'www.zxart.cn', 'www.3dmgame.com', 'www.infinitus.com.cn', 'www.cmbchina.com', 'www.mydrivers.com', 'www.iqilu.com', 'www.chinawuliu.com.cn', 'www.lcxw.cn', 'www.sinosig.com', 'www.cnr.cn', 'www.51credit.com', 'www.fqlook.cn', 'www.yicai.com', 'www.ca800.com', 'www.west263.com', 'www.enet.com.cn', 'www.vogue.com.cn', 'www.zynews.com', 'www.dyk.com.cn', 'www.ncnews.com.cn', 'www.southcn.com', 'www.anychem.com', 'www.5pao.com', 'www.jianke.com', 'www.xmnn.cn', 'www.workercn.cn', 'www.twwtn.com', 'www.mnw.cn', 'www.5u588.com', 'www.rbc.cn', 'www.airchina.com.cn', 'www.dongfeng-nissan.com.cn', 'www.taikang.com', 'www.chery.cn', 'www.eol.cn', 'www.78.cn', 'www.mofcom.gov.cn', 'www.live800.com', 'www.52cp.cn', 'www.co188.com', 'www.fzcj.com', 'www.newhua.com', 'www.saic.gov.cn', 'www.66wz.com', 'www.kuaiji.com', 'www.toptour.cn', 'www.allyes.com', 'www.nzw.cn', 'www.zto.cn', 'www.cndns.com', 'www.narutom.com', 'www.s1979.com', 'www.10086.cn', 'www.takungpao.com', 'www.jiaodong.net', 'www.dahe.cn', 'www.tangjiu.com', 'www.jstv.com', 'www.shangdu.com', 'www.ooopic.com', 'www.189.cn', 'www.self.com.cn', 'www.gov.cn', 'www.jhnews.com.cn', 'www.dzwww.com', 'www.cebbank.com', 'www.hefei.cc', 'www.bitauto.com', 'www.chinagames.net', 'www.pku.edu.cn', 'www.xinmin.cn', 'www.jxnews.com.cn', 'www.amway.com.cn', 'www.zhcw.com', 'www.uwan.com', 'www.nntv.cn', 'www.3158.cn', 'www.uc.cn', 'www.dv37.com', 'www.qiushibaike.com', 'www.pc6.com', 'www.eeworld.com.cn', 'www.qingdaonews.com', 'www.iweihai.cn', 'www.hinews.cn', 'www.forbeschina.com', 'www.u88.cn', 'www.cssn.cn', 'www.ccb.com', 'www.infzm.com', 'www.cnhubei.com', 'www.iqiyi.com', 'www.job168.com', 'www.edulife.com.cn', 'www.qgyyzs.net', 'www.5399.com', 'www.chinahighway.com', 'www.kumi.cn', 'www.nihaotw.com', 'www.3887.com', 'www.cnblogs.com', 'www.51zxw.net', 'www.56.com']\n"
     ]
    }
   ],
   "source": [
    "# For testing purposes\n",
    "video_heavy = [cdn for cdn, feature in icp_feature_dict_final.iteritems() if feature['video_bin'] == 'q4']\n",
    "print len(video_heavy)\n",
    "print video_heavy"
   ]
  },
  {
   "cell_type": "code",
   "execution_count": 49,
   "metadata": {
    "collapsed": true
   },
   "outputs": [],
   "source": [
    "# Create a list of ICP feature dicts\n",
    "# Ordered by uidx (user/ICP index)\n",
    "icp_feature_list = [icp_feature_dict_final[uidx_to_icp[uidx]] for uidx in range(num_icps)]"
   ]
  },
  {
   "cell_type": "code",
   "execution_count": 50,
   "metadata": {},
   "outputs": [
    {
     "data": {
      "text/plain": [
       "[{'icp': '365jilin.com',\n",
       "  'image_bin': 'q1',\n",
       "  'industry': '0100',\n",
       "  'text_bin': 'q1',\n",
       "  'video_bin': 'q0'},\n",
       " {'icp': 'www.100ec.cn',\n",
       "  'image_bin': 'q4',\n",
       "  'industry': '0100',\n",
       "  'text_bin': 'q4',\n",
       "  'video_bin': 'q2'},\n",
       " {'icp': 'www.163.com',\n",
       "  'image_bin': 'q1',\n",
       "  'industry': '0100',\n",
       "  'text_bin': 'q2',\n",
       "  'video_bin': 'q0'},\n",
       " {'icp': 'www.21cbh.com',\n",
       "  'image_bin': 'q2',\n",
       "  'industry': '0100',\n",
       "  'text_bin': 'q4',\n",
       "  'video_bin': 'q0'},\n",
       " {'icp': 'www.21cn.com',\n",
       "  'image_bin': 'q3',\n",
       "  'industry': '0100',\n",
       "  'text_bin': 'q2',\n",
       "  'video_bin': 'q2'}]"
      ]
     },
     "execution_count": 50,
     "metadata": {},
     "output_type": "execute_result"
    }
   ],
   "source": [
    "icp_feature_list[0:5]"
   ]
  },
  {
   "cell_type": "code",
   "execution_count": 51,
   "metadata": {},
   "outputs": [
    {
     "data": {
      "text/plain": [
       "'www.100ec.cn'"
      ]
     },
     "execution_count": 51,
     "metadata": {},
     "output_type": "execute_result"
    }
   ],
   "source": [
    "# Make sure indices match up\n",
    "uidx_to_icp[1]"
   ]
  },
  {
   "cell_type": "code",
   "execution_count": 52,
   "metadata": {
    "collapsed": true
   },
   "outputs": [],
   "source": [
    "# Vectorize! (One-hot encodings of each ICP)\n",
    "from sklearn.feature_extraction import DictVectorizer\n",
    "icp_vectorizer = DictVectorizer()\n",
    "icp_feature_vectors = icp_vectorizer.fit_transform(icp_feature_list)"
   ]
  },
  {
   "cell_type": "code",
   "execution_count": 53,
   "metadata": {},
   "outputs": [
    {
     "data": {
      "text/plain": [
       "(1151, 1172)"
      ]
     },
     "execution_count": 53,
     "metadata": {},
     "output_type": "execute_result"
    }
   ],
   "source": [
    "icp_feature_vectors.shape"
   ]
  },
  {
   "cell_type": "code",
   "execution_count": 54,
   "metadata": {},
   "outputs": [
    {
     "data": {
      "text/plain": [
       "21"
      ]
     },
     "execution_count": 54,
     "metadata": {},
     "output_type": "execute_result"
    }
   ],
   "source": [
    "1172-1151\n",
    "# 6 Industries\n",
    "# 3 x 5 content-type bins"
   ]
  },
  {
   "cell_type": "code",
   "execution_count": 55,
   "metadata": {},
   "outputs": [
    {
     "data": {
      "text/plain": [
       "<1151x1172 sparse matrix of type '<type 'numpy.float64'>'\n",
       "\twith 5755 stored elements in Compressed Sparse Row format>"
      ]
     },
     "execution_count": 55,
     "metadata": {},
     "output_type": "execute_result"
    }
   ],
   "source": [
    "icp_feature_vectors"
   ]
  },
  {
   "cell_type": "code",
   "execution_count": 297,
   "metadata": {
    "collapsed": true
   },
   "outputs": [],
   "source": [
    "import pickle\n",
    "with open('20170703-icp-feature-vectors.pkl', 'w') as output:\n",
    "    pickle.dump(icp_feature_vectors, output, -1)"
   ]
  },
  {
   "cell_type": "code",
   "execution_count": null,
   "metadata": {
    "collapsed": true
   },
   "outputs": [],
   "source": []
  }
 ],
 "metadata": {
  "kernelspec": {
   "display_name": "Python (RecSys)",
   "language": "python",
   "name": "recsys"
  },
  "language_info": {
   "codemirror_mode": {
    "name": "ipython",
    "version": 2
   },
   "file_extension": ".py",
   "mimetype": "text/x-python",
   "name": "python",
   "nbconvert_exporter": "python",
   "pygments_lexer": "ipython2",
   "version": "2.7.13"
  }
 },
 "nbformat": 4,
 "nbformat_minor": 2
}
