{
 "cells": [
  {
   "cell_type": "markdown",
   "metadata": {},
   "source": [
    "## ICP-CDN Interaction Preprocessing\n",
    "\n",
    "**Input:** Raw data table (hidden for future research purposes)\n",
    "\n",
    "**Output:** Interactions matrix of dimension: num_users x num_items\n",
    "* Go through raw data, keep track of which ICPs have used which CDNs\n",
    "* Nonzero entries represent a recorded interaction\n",
    "* Maintain *ICP-userindex* and *CDN-itemindex* mappings to remember which rows/columns correspond to which ICPs/CDNs"
   ]
  },
  {
   "cell_type": "code",
   "execution_count": 1,
   "metadata": {
    "collapsed": true
   },
   "outputs": [],
   "source": [
    "import numpy as np\n",
    "import pandas as pd\n",
    "import scipy.sparse as sp\n",
    "import csv"
   ]
  },
  {
   "cell_type": "code",
   "execution_count": 2,
   "metadata": {
    "collapsed": true
   },
   "outputs": [],
   "source": [
    "# Read in ICP-CDN interactions (icpdomaincdntotalamountofmedia)\n",
    "interactions_filepath = 'icpdomaincdntotalamountofmedia/all_interactions.txt'\n",
    "interactions_header = ['industry','icp','domain','cdn',\n",
    "                                      'totalsize','cdnsize','nocdnsize',\n",
    "                                      'ts']\n",
    "interactions_dtypes = {\n",
    "    'industry': str,\n",
    "    'icp': str,\n",
    "    'domain': str,\n",
    "    'cdn': str,\n",
    "    'totalsize': np.float64,\n",
    "    'cdnsize': np.float64,\n",
    "    'nocdnsize': np.float64,\n",
    "    'ts': str\n",
    "}\n",
    "interactions_df = pd.read_csv(interactions_filepath, \n",
    "                              sep=',', header=None, \n",
    "                              names=interactions_header,\n",
    "                              dtype=interactions_dtypes)"
   ]
  },
  {
   "cell_type": "code",
   "execution_count": 3,
   "metadata": {},
   "outputs": [
    {
     "data": {
      "text/html": [
       "<div>\n",
       "<style>\n",
       "    .dataframe thead tr:only-child th {\n",
       "        text-align: right;\n",
       "    }\n",
       "\n",
       "    .dataframe thead th {\n",
       "        text-align: left;\n",
       "    }\n",
       "\n",
       "    .dataframe tbody tr th {\n",
       "        vertical-align: top;\n",
       "    }\n",
       "</style>\n",
       "<table border=\"1\" class=\"dataframe\">\n",
       "  <thead>\n",
       "    <tr style=\"text-align: right;\">\n",
       "      <th></th>\n",
       "      <th>industry</th>\n",
       "      <th>icp</th>\n",
       "      <th>domain</th>\n",
       "      <th>cdn</th>\n",
       "      <th>totalsize</th>\n",
       "      <th>cdnsize</th>\n",
       "      <th>nocdnsize</th>\n",
       "      <th>ts</th>\n",
       "    </tr>\n",
       "  </thead>\n",
       "  <tbody>\n",
       "    <tr>\n",
       "      <th>0</th>\n",
       "      <td>0100</td>\n",
       "      <td>365jia.cn</td>\n",
       "      <td>365jia.cn</td>\n",
       "      <td>NaN</td>\n",
       "      <td>3.525360e+09</td>\n",
       "      <td>0.000000e+00</td>\n",
       "      <td>3.525360e+09</td>\n",
       "      <td>201501</td>\n",
       "    </tr>\n",
       "    <tr>\n",
       "      <th>1</th>\n",
       "      <td>0100</td>\n",
       "      <td>365jilin.com</td>\n",
       "      <td>365jilin.com</td>\n",
       "      <td>NaN</td>\n",
       "      <td>3.595730e+05</td>\n",
       "      <td>0.000000e+00</td>\n",
       "      <td>3.595730e+05</td>\n",
       "      <td>201501</td>\n",
       "    </tr>\n",
       "    <tr>\n",
       "      <th>2</th>\n",
       "      <td>0100</td>\n",
       "      <td>wfcmw.cn</td>\n",
       "      <td>wfcmw.cn</td>\n",
       "      <td>NaN</td>\n",
       "      <td>1.362390e+09</td>\n",
       "      <td>0.000000e+00</td>\n",
       "      <td>1.362390e+09</td>\n",
       "      <td>201501</td>\n",
       "    </tr>\n",
       "    <tr>\n",
       "      <th>3</th>\n",
       "      <td>0100</td>\n",
       "      <td>www.100ec.cn</td>\n",
       "      <td>www.100ec.cn</td>\n",
       "      <td>NaN</td>\n",
       "      <td>2.940954e+08</td>\n",
       "      <td>0.000000e+00</td>\n",
       "      <td>2.940954e+08</td>\n",
       "      <td>201501</td>\n",
       "    </tr>\n",
       "    <tr>\n",
       "      <th>4</th>\n",
       "      <td>0100</td>\n",
       "      <td>www.163.com</td>\n",
       "      <td>www.163.com</td>\n",
       "      <td>002</td>\n",
       "      <td>8.273679e+08</td>\n",
       "      <td>8.273679e+08</td>\n",
       "      <td>0.000000e+00</td>\n",
       "      <td>201501</td>\n",
       "    </tr>\n",
       "    <tr>\n",
       "      <th>5</th>\n",
       "      <td>0100</td>\n",
       "      <td>www.163.com</td>\n",
       "      <td>www.163.com</td>\n",
       "      <td>004</td>\n",
       "      <td>3.701383e+08</td>\n",
       "      <td>3.701383e+08</td>\n",
       "      <td>0.000000e+00</td>\n",
       "      <td>201501</td>\n",
       "    </tr>\n",
       "    <tr>\n",
       "      <th>6</th>\n",
       "      <td>0100</td>\n",
       "      <td>www.21cbh.com</td>\n",
       "      <td>www.21cbh.com</td>\n",
       "      <td>002</td>\n",
       "      <td>2.036111e+10</td>\n",
       "      <td>2.036111e+10</td>\n",
       "      <td>0.000000e+00</td>\n",
       "      <td>201501</td>\n",
       "    </tr>\n",
       "    <tr>\n",
       "      <th>7</th>\n",
       "      <td>0100</td>\n",
       "      <td>www.21cn.com</td>\n",
       "      <td>www.21cn.com</td>\n",
       "      <td>NaN</td>\n",
       "      <td>1.151693e+08</td>\n",
       "      <td>0.000000e+00</td>\n",
       "      <td>1.151693e+08</td>\n",
       "      <td>201501</td>\n",
       "    </tr>\n",
       "    <tr>\n",
       "      <th>8</th>\n",
       "      <td>0100</td>\n",
       "      <td>www.21cn.com</td>\n",
       "      <td>www.21cn.com</td>\n",
       "      <td>003</td>\n",
       "      <td>8.983205e+09</td>\n",
       "      <td>8.983205e+09</td>\n",
       "      <td>0.000000e+00</td>\n",
       "      <td>201501</td>\n",
       "    </tr>\n",
       "    <tr>\n",
       "      <th>9</th>\n",
       "      <td>0100</td>\n",
       "      <td>www.2500sz.com</td>\n",
       "      <td>www.2500sz.com</td>\n",
       "      <td>001</td>\n",
       "      <td>1.621454e+10</td>\n",
       "      <td>1.621454e+10</td>\n",
       "      <td>0.000000e+00</td>\n",
       "      <td>201501</td>\n",
       "    </tr>\n",
       "    <tr>\n",
       "      <th>10</th>\n",
       "      <td>0100</td>\n",
       "      <td>www.265g.com</td>\n",
       "      <td>www.265g.com</td>\n",
       "      <td>NaN</td>\n",
       "      <td>2.695444e+08</td>\n",
       "      <td>0.000000e+00</td>\n",
       "      <td>2.695444e+08</td>\n",
       "      <td>201501</td>\n",
       "    </tr>\n",
       "    <tr>\n",
       "      <th>11</th>\n",
       "      <td>0100</td>\n",
       "      <td>www.315che.com</td>\n",
       "      <td>www.315che.com</td>\n",
       "      <td>002</td>\n",
       "      <td>3.201521e+09</td>\n",
       "      <td>3.201521e+09</td>\n",
       "      <td>0.000000e+00</td>\n",
       "      <td>201501</td>\n",
       "    </tr>\n",
       "    <tr>\n",
       "      <th>12</th>\n",
       "      <td>0100</td>\n",
       "      <td>www.364000.com</td>\n",
       "      <td>www.364000.com</td>\n",
       "      <td>NaN</td>\n",
       "      <td>2.688717e+08</td>\n",
       "      <td>0.000000e+00</td>\n",
       "      <td>2.688717e+08</td>\n",
       "      <td>201501</td>\n",
       "    </tr>\n",
       "    <tr>\n",
       "      <th>13</th>\n",
       "      <td>0100</td>\n",
       "      <td>www.3dmgame.com</td>\n",
       "      <td>bbs.3dmgame.com</td>\n",
       "      <td>NaN</td>\n",
       "      <td>1.172880e+05</td>\n",
       "      <td>0.000000e+00</td>\n",
       "      <td>1.172880e+05</td>\n",
       "      <td>201501</td>\n",
       "    </tr>\n",
       "    <tr>\n",
       "      <th>14</th>\n",
       "      <td>0100</td>\n",
       "      <td>www.3dmgame.com</td>\n",
       "      <td>img01.3dmgame.com</td>\n",
       "      <td>NaN</td>\n",
       "      <td>1.386610e+07</td>\n",
       "      <td>0.000000e+00</td>\n",
       "      <td>1.386610e+07</td>\n",
       "      <td>201501</td>\n",
       "    </tr>\n",
       "  </tbody>\n",
       "</table>\n",
       "</div>"
      ],
      "text/plain": [
       "   industry              icp             domain  cdn     totalsize  \\\n",
       "0      0100        365jia.cn          365jia.cn  NaN  3.525360e+09   \n",
       "1      0100     365jilin.com       365jilin.com  NaN  3.595730e+05   \n",
       "2      0100         wfcmw.cn           wfcmw.cn  NaN  1.362390e+09   \n",
       "3      0100     www.100ec.cn       www.100ec.cn  NaN  2.940954e+08   \n",
       "4      0100      www.163.com        www.163.com  002  8.273679e+08   \n",
       "5      0100      www.163.com        www.163.com  004  3.701383e+08   \n",
       "6      0100    www.21cbh.com      www.21cbh.com  002  2.036111e+10   \n",
       "7      0100     www.21cn.com       www.21cn.com  NaN  1.151693e+08   \n",
       "8      0100     www.21cn.com       www.21cn.com  003  8.983205e+09   \n",
       "9      0100   www.2500sz.com     www.2500sz.com  001  1.621454e+10   \n",
       "10     0100     www.265g.com       www.265g.com  NaN  2.695444e+08   \n",
       "11     0100   www.315che.com     www.315che.com  002  3.201521e+09   \n",
       "12     0100   www.364000.com     www.364000.com  NaN  2.688717e+08   \n",
       "13     0100  www.3dmgame.com    bbs.3dmgame.com  NaN  1.172880e+05   \n",
       "14     0100  www.3dmgame.com  img01.3dmgame.com  NaN  1.386610e+07   \n",
       "\n",
       "         cdnsize     nocdnsize      ts  \n",
       "0   0.000000e+00  3.525360e+09  201501  \n",
       "1   0.000000e+00  3.595730e+05  201501  \n",
       "2   0.000000e+00  1.362390e+09  201501  \n",
       "3   0.000000e+00  2.940954e+08  201501  \n",
       "4   8.273679e+08  0.000000e+00  201501  \n",
       "5   3.701383e+08  0.000000e+00  201501  \n",
       "6   2.036111e+10  0.000000e+00  201501  \n",
       "7   0.000000e+00  1.151693e+08  201501  \n",
       "8   8.983205e+09  0.000000e+00  201501  \n",
       "9   1.621454e+10  0.000000e+00  201501  \n",
       "10  0.000000e+00  2.695444e+08  201501  \n",
       "11  3.201521e+09  0.000000e+00  201501  \n",
       "12  0.000000e+00  2.688717e+08  201501  \n",
       "13  0.000000e+00  1.172880e+05  201501  \n",
       "14  0.000000e+00  1.386610e+07  201501  "
      ]
     },
     "execution_count": 3,
     "metadata": {},
     "output_type": "execute_result"
    }
   ],
   "source": [
    "interactions_df.head(15)"
   ]
  },
  {
   "cell_type": "code",
   "execution_count": 4,
   "metadata": {},
   "outputs": [
    {
     "data": {
      "text/plain": [
       "array([False], dtype=bool)"
      ]
     },
     "execution_count": 4,
     "metadata": {},
     "output_type": "execute_result"
    }
   ],
   "source": [
    "interactions_df.duplicated().unique()"
   ]
  },
  {
   "cell_type": "markdown",
   "metadata": {},
   "source": [
    "Looks good, no duplicate data"
   ]
  },
  {
   "cell_type": "code",
   "execution_count": 5,
   "metadata": {
    "collapsed": true
   },
   "outputs": [],
   "source": [
    "# # Read in ICP Statistics\n",
    "# icp_statistics_filepath = 'icpstatistic/all_icp_statistics.txt'\n",
    "# icp_statistics_header = ['icp', 'textnum', 'imagenum', 'videonum', 'unknownnum',\\\n",
    "#                         'textbytes','imagebytes','unknownbytes','createtime', 'ts']\n",
    "# icp_statistics_dtypes = {\n",
    "#     'icp': str,\n",
    "#     'textnum': np.int64,\n",
    "#     'imagenum': np.int64,\n",
    "#     'videonum': np.int64,\n",
    "#     'unknownnum': np.int64,\n",
    "#     'textbytes': np.float64,\n",
    "#     'imagebytes': np.float64,\n",
    "#     'unknownbytes': np.float64,\n",
    "#     'createtime': str,\n",
    "#     'ts': str\n",
    "# }\n",
    "# icp_statistics_df = pd.read_csv(icp_statistics_filepath,\n",
    "#                                sep=',', header=None,\n",
    "#                                names=icp_statistics_header,\n",
    "#                                dtype=icp_statistics_dtypes)"
   ]
  },
  {
   "cell_type": "code",
   "execution_count": 6,
   "metadata": {
    "collapsed": true
   },
   "outputs": [],
   "source": [
    "# icp_statistics_df.head()\n",
    "# # Column numbers don't match! Look into this later"
   ]
  },
  {
   "cell_type": "code",
   "execution_count": 7,
   "metadata": {},
   "outputs": [
    {
     "name": "stdout",
     "output_type": "stream",
     "text": [
      "Num users (ICPs): 1753 | Num items (CDNs): 39\n",
      "['365jia.cn' '365jilin.com' 'wfcmw.cn' ..., 'www.metroer.com'\n",
      " 'www.xy280.com' 'www.yccar.com']\n",
      "['002' '004' '003' '001' '203' '013' '202' '005' '204' '201' '009' '007'\n",
      " '006' '008' '101' '104' '111' '102' '105' '014' '103' '106' '113' '110'\n",
      " '121' '116' '109' '125' '114' '108' '124' '107' '011' '119' '112' '117'\n",
      " '115' '122' '123']\n"
     ]
    }
   ],
   "source": [
    "# Create lists of unique users (ICPs), items (CDNs)\n",
    "icp_list = interactions_df.icp.unique()\n",
    "cdn_list = interactions_df.cdn.unique()[1:] # remove NaN\n",
    "n_users = icp_list.shape[0]\n",
    "n_items = cdn_list.shape[0]\n",
    "\n",
    "print \"Num users (ICPs): \" + str(n_users) + \" | Num items (CDNs): \" + str(n_items)\n",
    "print icp_list\n",
    "print cdn_list"
   ]
  },
  {
   "cell_type": "code",
   "execution_count": 8,
   "metadata": {},
   "outputs": [
    {
     "name": "stdout",
     "output_type": "stream",
     "text": [
      "['365jia.cn', '365jilin.com', 'wfcmw.cn', '1000eb.com', 'duoshuo.com', 'gai001.com', 'nut.com.cn', 'panasonic.cn', 'segmentfault.com', 't.cn', 'w.cn', 'wallstreetcn.com', '5173tuan.com', 'tuanweihui.com', 'new.sdo.com', 'lengxiaohua.cn', 'kdweibo.com', 'youyuan.com', '5lux.com', 'bab.la', 'shuaijiao.com', 'tsinghua.edu.cn']\n"
     ]
    }
   ],
   "source": [
    "# Check for duplicates with or without \"www.__url__\"\n",
    "no_www_list = [url for url in icp_list if \"www.\" not in url]\n",
    "print no_www_list"
   ]
  },
  {
   "cell_type": "code",
   "execution_count": 9,
   "metadata": {},
   "outputs": [
    {
     "name": "stdout",
     "output_type": "stream",
     "text": [
      "(array([], dtype=int64),)\n",
      "(array([], dtype=int64),)\n",
      "(array([], dtype=int64),)\n",
      "(array([], dtype=int64),)\n",
      "(array([], dtype=int64),)\n",
      "(array([], dtype=int64),)\n",
      "(array([], dtype=int64),)\n",
      "(array([], dtype=int64),)\n",
      "(array([], dtype=int64),)\n",
      "(array([], dtype=int64),)\n",
      "(array([], dtype=int64),)\n",
      "(array([], dtype=int64),)\n",
      "(array([], dtype=int64),)\n",
      "(array([], dtype=int64),)\n",
      "(array([], dtype=int64),)\n",
      "(array([], dtype=int64),)\n",
      "(array([], dtype=int64),)\n",
      "(array([], dtype=int64),)\n",
      "(array([], dtype=int64),)\n",
      "(array([], dtype=int64),)\n",
      "(array([], dtype=int64),)\n",
      "(array([], dtype=int64),)\n"
     ]
    }
   ],
   "source": [
    "for element in no_www_list:\n",
    "    with_www = \"www.\" + element\n",
    "    print np.where(icp_list == with_www)"
   ]
  },
  {
   "cell_type": "markdown",
   "metadata": {},
   "source": [
    "Confirmed: no \"www\" duplicates - yay"
   ]
  },
  {
   "cell_type": "code",
   "execution_count": 10,
   "metadata": {
    "collapsed": true
   },
   "outputs": [],
   "source": [
    "# Create interactions matrix + user-row, item-col mappings\n",
    "interactions = np.zeros((n_users, n_items))\n",
    "\n",
    "# user-row\n",
    "uidx_to_icp = {} # User index to ICP\n",
    "icp_to_uidx = {} # ICP to user index\n",
    "for (index, icp) in enumerate(icp_list):\n",
    "    uidx_to_icp[index] = icp\n",
    "    icp_to_uidx[icp] = index\n",
    "    \n",
    "# item-col\n",
    "iidx_to_cdn = {} # Item index to CDN\n",
    "cdn_to_iidx = {} # CDN to item index\n",
    "for (index, cdn) in enumerate(cdn_list):\n",
    "    iidx_to_cdn[index] = cdn\n",
    "    cdn_to_iidx[cdn] = index\n",
    "\n",
    "# Read in entries\n",
    "for entry in interactions_df.itertuples():\n",
    "    icp = entry[2] # 2nd element\n",
    "    cdn = entry[4] # 4th element\n",
    "    if cdn > 0: # Remove NaN\n",
    "        row = icp_to_uidx[icp]\n",
    "        col = cdn_to_iidx[cdn]\n",
    "        interactions[row, col] = 1"
   ]
  },
  {
   "cell_type": "code",
   "execution_count": 11,
   "metadata": {},
   "outputs": [
    {
     "name": "stdout",
     "output_type": "stream",
     "text": [
      "Matrix shape: (1753, 39)\n",
      "Interaction pairs: 2242\n"
     ]
    }
   ],
   "source": [
    "# Convert to compressed sparse-row matrix, check shape, num. interactions\n",
    "interactions = sp.csr_matrix(interactions)\n",
    "print \"Matrix shape: \" + str(interactions.shape)\n",
    "print \"Interaction pairs: \" + str(interactions.getnnz())\n",
    "# 2242 interaction pairs"
   ]
  },
  {
   "cell_type": "code",
   "execution_count": 12,
   "metadata": {},
   "outputs": [
    {
     "data": {
      "text/plain": [
       "(1151, 39)"
      ]
     },
     "execution_count": 12,
     "metadata": {},
     "output_type": "execute_result"
    }
   ],
   "source": [
    "# Check number of ICPs that have used CDNs (non-empty rows)\n",
    "interactions[interactions.getnnz(1) > 0].shape"
   ]
  },
  {
   "cell_type": "code",
   "execution_count": 13,
   "metadata": {},
   "outputs": [
    {
     "name": "stdout",
     "output_type": "stream",
     "text": [
      "0.950054579073\n"
     ]
    }
   ],
   "source": [
    "# Check sparsity of remaining ICP-CDN matrix (if we remove empty rows)\n",
    "sparsity = (1151*39 - 2242.)/(1151*39.)\n",
    "print sparsity"
   ]
  },
  {
   "cell_type": "code",
   "execution_count": 14,
   "metadata": {
    "collapsed": true
   },
   "outputs": [],
   "source": [
    "# Remove ICPs that haven't used CDNs from interactions matrix\n",
    "rows_interacted = interactions.getnnz(1).astype(bool) # Boolean list of if row (ICP) has used a CDN\n",
    "icp_list_remaining = icp_list[rows_interacted] # Remaining list of ICPs that have used CDNs\n",
    "interactions_remaining = interactions[rows_interacted] # Remaining array, only includes ICPs that have used CDNs\n",
    "num_users_remaining = interactions_remaining.shape[0]\n",
    "\n",
    "assert (False not in interactions_remaining.getnnz(1)) # No empty rows remaining"
   ]
  },
  {
   "cell_type": "code",
   "execution_count": 15,
   "metadata": {
    "collapsed": true
   },
   "outputs": [],
   "source": [
    "# Redo user-row mappings using remaining ICP list\n",
    "uidx_to_icp_remaining = {}\n",
    "icp_to_uidx_remaining = {}\n",
    "for (index, icp) in enumerate(icp_list_remaining):\n",
    "    uidx_to_icp_remaining[index] = icp\n",
    "    icp_to_uidx_remaining[icp] = index"
   ]
  },
  {
   "cell_type": "code",
   "execution_count": 16,
   "metadata": {
    "collapsed": true
   },
   "outputs": [],
   "source": [
    "# True if ICP has used a CDN (included in final matrix)\n",
    "# False if ICP has NOT used a CDN (excluded from final matrix)\n",
    "def has_used_cdn(icp_name):\n",
    "    return icp_name in icp_to_uidx_remaining"
   ]
  },
  {
   "cell_type": "code",
   "execution_count": 17,
   "metadata": {},
   "outputs": [
    {
     "data": {
      "text/plain": [
       "True"
      ]
     },
     "execution_count": 17,
     "metadata": {},
     "output_type": "execute_result"
    }
   ],
   "source": [
    "# Use for testing: sort .csv by ICP name, plug in some names, see if result is correct\n",
    "has_used_cdn('www.nipic.com')"
   ]
  },
  {
   "cell_type": "code",
   "execution_count": 18,
   "metadata": {},
   "outputs": [
    {
     "name": "stdout",
     "output_type": "stream",
     "text": [
      "Number of CDNs: 0 | Count: 0\n",
      "Number of CDNs: 1 | Count: 567\n",
      "Number of CDNs: 2 | Count: 314\n",
      "Number of CDNs: 3 | Count: 163\n",
      "Number of CDNs: 4 | Count: 58\n",
      "Number of CDNs: 5 | Count: 26\n",
      "Number of CDNs: 6 | Count: 9\n",
      "Number of CDNs: 7 | Count: 6\n",
      "Number of CDNs: 8 | Count: 1\n",
      "Number of CDNs: 9 | Count: 0\n",
      "Number of CDNs: 10 | Count: 1\n",
      "Number of CDNs: 11 | Count: 1\n",
      "Number of CDNs: 12 | Count: 2\n",
      "Number of CDNs: 13 | Count: 2\n",
      "Number of CDNs: 14 | Count: 0\n",
      "Number of CDNs: 15 | Count: 0\n",
      "Number of CDNs: 16 | Count: 0\n",
      "Number of CDNs: 17 | Count: 0\n",
      "Number of CDNs: 18 | Count: 0\n",
      "Number of CDNs: 19 | Count: 0\n",
      "Number of CDNs: 20 | Count: 0\n",
      "Number of CDNs: 21 | Count: 1\n"
     ]
    }
   ],
   "source": [
    "# Just out of curiosity: See how many different CDNs each ICP has used (num. different interactions)\n",
    "max_num_cdns = max(interactions_remaining.getnnz(1))\n",
    "CDN_counts = np.zeros(max_num_cdns+1).astype(np.int32)\n",
    "\n",
    "for num in range(0, max_num_cdns+1):\n",
    "    CDN_counts[num] = interactions_remaining[interactions_remaining.getnnz(1) == num].shape[0]\n",
    "\n",
    "for num_cdns, count in enumerate(CDN_counts):\n",
    "    print \"Number of CDNs: \" + str(num_cdns) + \" | \" + \"Count: \" + str(count)"
   ]
  },
  {
   "cell_type": "code",
   "execution_count": 19,
   "metadata": {},
   "outputs": [
    {
     "data": {
      "text/plain": [
       "'www.gov.cn'"
      ]
     },
     "execution_count": 19,
     "metadata": {},
     "output_type": "execute_result"
    }
   ],
   "source": [
    "# How did 1 ICP use 21 different CDN providers?? Let's find out who it was\n",
    "row = np.argmax(interactions_remaining.getnnz(1))\n",
    "uidx_to_icp_remaining[row]"
   ]
  },
  {
   "cell_type": "markdown",
   "metadata": {},
   "source": [
    "Of course it was the government"
   ]
  },
  {
   "cell_type": "code",
   "execution_count": 20,
   "metadata": {},
   "outputs": [
    {
     "name": "stderr",
     "output_type": "stream",
     "text": [
      "/Users/lucashu/anaconda/envs/recsys/lib/python2.7/site-packages/lightfm/_lightfm_fast.py:9: UserWarning: LightFM was compiled without OpenMP support. Only a single thread will be used.\n",
      "  warnings.warn('LightFM was compiled without OpenMP support. '\n"
     ]
    }
   ],
   "source": [
    "# Let's try training a simple implicit feedback CF model on all our interaction data\n",
    "from lightfm import LightFM\n",
    "import lightfm.evaluation"
   ]
  },
  {
   "cell_type": "code",
   "execution_count": 21,
   "metadata": {
    "collapsed": true
   },
   "outputs": [],
   "source": [
    "# Code from Ethan Rosenthal's LightFM for Sketchfab tutorial\n",
    "def print_log(row, header=False, spacing=12):\n",
    "    top = ''\n",
    "    middle = ''\n",
    "    bottom = ''\n",
    "    for r in row:\n",
    "        top += '+{}'.format('-'*spacing)\n",
    "        if isinstance(r, str):\n",
    "            middle += '| {0:^{1}} '.format(r, spacing-2)\n",
    "        elif isinstance(r, int):\n",
    "            middle += '| {0:^{1}} '.format(r, spacing-2)\n",
    "        elif (isinstance(r, float)\n",
    "              or isinstance(r, np.float32)\n",
    "              or isinstance(r, np.float64)):\n",
    "            middle += '| {0:^{1}.5f} '.format(r, spacing-2)\n",
    "        bottom += '+{}'.format('='*spacing)\n",
    "    top += '+'\n",
    "    middle += '|'\n",
    "    bottom += '+'\n",
    "    if header:\n",
    "        print(top)\n",
    "        print(middle)\n",
    "        print(bottom)\n",
    "    else:\n",
    "        print(middle)\n",
    "        print(top)\n",
    "        \n",
    "def patk_learning_curve(model, train,\n",
    "                       iterarray, user_features=None,\n",
    "                       item_features=None, k=5,\n",
    "                       **fit_params):\n",
    "    old_epoch = 0\n",
    "    train_patk = []\n",
    "    headers = ['Epoch', 'train p@5']\n",
    "    print_log(headers, header=True)\n",
    "    for epoch in iterarray:\n",
    "        more = epoch - old_epoch\n",
    "        model.fit_partial(train,\n",
    "                          user_features=user_features,\n",
    "                          item_features=item_features,\n",
    "                         epochs=more, **fit_params)\n",
    "        this_train = lightfm.evaluation.precision_at_k(model, train, train_interactions=None, k=k)\n",
    "        \n",
    "        train_patk.append(np.mean(this_train))\n",
    "        row = [epoch, train_patk[-1]]\n",
    "        print_log(row)\n",
    "    return model, train_patk"
   ]
  },
  {
   "cell_type": "code",
   "execution_count": 22,
   "metadata": {},
   "outputs": [
    {
     "name": "stdout",
     "output_type": "stream",
     "text": [
      "+------------+------------+\n",
      "|   Epoch    | train p@5  |\n",
      "+============+============+\n",
      "|     10     |  0.34926   |\n",
      "+------------+------------+\n",
      "|     20     |  0.36507   |\n",
      "+------------+------------+\n",
      "|     30     |  0.37150   |\n",
      "+------------+------------+\n",
      "|     40     |  0.37480   |\n",
      "+------------+------------+\n",
      "|     50     |  0.37533   |\n",
      "+------------+------------+\n",
      "|     60     |  0.37550   |\n",
      "+------------+------------+\n",
      "|     70     |  0.37550   |\n",
      "+------------+------------+\n",
      "|     80     |  0.37550   |\n",
      "+------------+------------+\n",
      "|     90     |  0.37550   |\n",
      "+------------+------------+\n",
      "|    100     |  0.37550   |\n",
      "+------------+------------+\n"
     ]
    }
   ],
   "source": [
    "model = LightFM(loss='warp', random_state=2016)\n",
    "model.fit(interactions_remaining, epochs=0) # just initialize\n",
    "\n",
    "iterarray = range(10, 110, 10)\n",
    "model, train_patk = patk_learning_curve(\n",
    "    model, interactions_remaining, iterarray, k=5,\n",
    "    **{'num_threads':1}\n",
    ")"
   ]
  },
  {
   "cell_type": "code",
   "execution_count": 23,
   "metadata": {},
   "outputs": [
    {
     "data": {
      "image/png": "[encoded data removed]",
      "text/plain": [
       "<matplotlib.figure.Figure at 0x11235a950>"
      ]
     },
     "metadata": {},
     "output_type": "display_data"
    }
   ],
   "source": [
    "# Generate plot\n",
    "import seaborn as sns\n",
    "import matplotlib.pyplot as plt\n",
    "sns.set_style('white')\n",
    "\n",
    "def plot_patk(iterarray, patk,\n",
    "              title, k=5):\n",
    "    plt.plot(iterarray, patk);\n",
    "    plt.title(title, fontsize=20);\n",
    "    plt.xlabel('Epochs', fontsize=24);\n",
    "    plt.ylabel('p@{}'.format(k), fontsize=24);\n",
    "    plt.xticks(fontsize=14);\n",
    "    plt.yticks(fontsize=14);\n",
    "    \n",
    "# Plot train on left\n",
    "plot_patk(iterarray, train_patk,\n",
    "         'Train', k=5)\n",
    "\n",
    "plt.show();"
   ]
  },
  {
   "cell_type": "markdown",
   "metadata": {},
   "source": [
    "Not bad! Still need to try with separate test data though.\n",
    "\n",
    "TODO 6/28/17:\n",
    "Create train-test splits\n",
    "Implement user, item features"
   ]
  },
  {
   "cell_type": "code",
   "execution_count": 28,
   "metadata": {
    "collapsed": true
   },
   "outputs": [],
   "source": [
    "# Initial save: interactions matrix, index mappings\n",
    "import pickle\n",
    "with open('20170629-interactions-mappings.pkl', 'wb') as output:\n",
    "    pickle.dump((interactions_remaining, \\\n",
    "                 iidx_to_cdn, cdn_to_iidx, \\\n",
    "                 uidx_to_icp_remaining, icp_to_uidx_remaining), \\\n",
    "                 output, -1)"
   ]
  },
  {
   "cell_type": "code",
   "execution_count": null,
   "metadata": {
    "collapsed": true
   },
   "outputs": [],
   "source": []
  }
 ],
 "metadata": {
  "kernelspec": {
   "display_name": "Python 2",
   "language": "python",
   "name": "python2"
  },
  "language_info": {
   "codemirror_mode": {
    "name": "ipython",
    "version": 2
   },
   "file_extension": ".py",
   "mimetype": "text/x-python",
   "name": "python",
   "nbconvert_exporter": "python",
   "pygments_lexer": "ipython2",
   "version": "2.7.13"
  }
 },
 "nbformat": 4,
 "nbformat_minor": 2
}
